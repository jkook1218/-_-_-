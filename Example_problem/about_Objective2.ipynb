{
 "cells": [
  {
   "cell_type": "markdown",
   "metadata": {},
   "source": [
    "### 연습문제 3.2.33"
   ]
  },
  {
   "cell_type": "code",
   "execution_count": 37,
   "metadata": {},
   "outputs": [],
   "source": [
    "class Character(object):\n",
    "    \n",
    "    def __init__(self):\n",
    "        self.hp = 100\n",
    "        self.mp = 50\n",
    "\n",
    "class wizard(Character):\n",
    "    \n",
    "    def __init__(self):\n",
    "        super(wizard, self).__init__()\n",
    "        self.str = 10\n",
    "        self.int = 20\n",
    "        \n",
    "    def attack(self):\n",
    "        print(\"파이어볼!\")\n",
    "        \n",
    "    def attacked(self):\n",
    "        self.hp -= 10\n",
    "        print(\"공격받음! 생명력 =\", self.hp)\n",
    "        \n",
    "class tank(Character):\n",
    "    \n",
    "    def __init__(self):\n",
    "        super(tank, self).__init__()\n",
    "        self.str = 20\n",
    "        self.int = 5\n",
    "        \n",
    "    def attack(self):\n",
    "        print(\"베기!\")\n",
    "        \n",
    "    def attacked(self):\n",
    "        self.hp -= 5\n",
    "        print(\"공격받음! 생명력 =\", self.hp)"
   ]
  },
  {
   "cell_type": "code",
   "execution_count": 38,
   "metadata": {},
   "outputs": [
    {
     "name": "stdout",
     "output_type": "stream",
     "text": [
      "파이어볼!\n",
      "None\n",
      "베기!\n",
      "None\n",
      "공격받음! 생명력 = 90\n",
      "None\n",
      "공격받음! 생명력 = 80\n",
      "None\n",
      "공격받음! 생명력 = 95\n",
      "None\n",
      "공격받음! 생명력 = 90\n",
      "None\n"
     ]
    }
   ],
   "source": [
    "hy = wizard()\n",
    "print(hy.attack())\n",
    "jk = tank()\n",
    "print(jk.attack())\n",
    "\n",
    "print(hy.attacked())\n",
    "print(hy.attacked())\n",
    "print(jk.attacked())\n",
    "print(jk.attacked())"
   ]
  },
  {
   "cell_type": "markdown",
   "metadata": {},
   "source": [
    "### 연습문제 3.2.34"
   ]
  },
  {
   "cell_type": "code",
   "execution_count": 49,
   "metadata": {},
   "outputs": [
    {
     "name": "stdout",
     "output_type": "stream",
     "text": [
      "20\n",
      "None\n",
      "40\n",
      "None\n",
      "60\n",
      "None\n",
      "80\n",
      "None\n",
      "100\n",
      "None\n",
      "120\n",
      "None\n",
      "140\n",
      "None\n",
      "160\n",
      "None\n",
      "현재속도 =  160 더이상 속도를 높일 수 없습니다.\n",
      "None\n",
      "140\n",
      "None\n",
      "120\n",
      "None\n",
      "100\n",
      "None\n",
      "80\n",
      "None\n",
      "60\n",
      "None\n",
      "40\n",
      "None\n",
      "20\n",
      "None\n",
      "0\n",
      "None\n",
      "현재속도 =  0 더이상 속도를 낮출 수 없습니다.\n",
      "None\n",
      "현재속도 =  0 더이상 속도를 낮출 수 없습니다.\n",
      "None\n"
     ]
    }
   ],
   "source": [
    "class Car(object):\n",
    "    \n",
    "    def __init__(self):\n",
    "        self.max_speed = 160\n",
    "        self.speed = 0\n",
    "        \n",
    "    def speed_up(self):\n",
    "        if self.speed < self.max_speed:\n",
    "            self.speed += 20\n",
    "            print(self.speed)\n",
    "        else:\n",
    "            print(\"현재속도 = \", self.speed,\"더이상 속도를 높일 수 없습니다.\")\n",
    "        \n",
    "        \n",
    "    def speed_down(self):\n",
    "        if self.speed > 0:\n",
    "            self.speed -= 20\n",
    "            print(self.speed)\n",
    "        else:\n",
    "            print(\"현재속도 = \", self.speed,\"더이상 속도를 낮출 수 없습니다.\")\n",
    "    \n",
    "my_car = Car()\n",
    "print(my_car.speed_up())\n",
    "print(my_car.speed_up())\n",
    "print(my_car.speed_up())\n",
    "print(my_car.speed_up())\n",
    "print(my_car.speed_up())\n",
    "print(my_car.speed_up())\n",
    "print(my_car.speed_up())\n",
    "print(my_car.speed_up())\n",
    "print(my_car.speed_up())\n",
    "\n",
    "print(my_car.speed_down())\n",
    "print(my_car.speed_down())\n",
    "print(my_car.speed_down())\n",
    "print(my_car.speed_down())\n",
    "print(my_car.speed_down())\n",
    "print(my_car.speed_down())\n",
    "print(my_car.speed_down())\n",
    "print(my_car.speed_down())\n",
    "print(my_car.speed_down())\n",
    "        "
   ]
  },
  {
   "cell_type": "markdown",
   "metadata": {},
   "source": [
    "### 연습문제 3.2.35"
   ]
  },
  {
   "cell_type": "code",
   "execution_count": 70,
   "metadata": {},
   "outputs": [
    {
     "name": "stdout",
     "output_type": "stream",
     "text": [
      "45\n",
      "None\n",
      "90\n",
      "None\n",
      "135\n",
      "None\n",
      "180\n",
      "None\n",
      "속도 초과\n",
      "None\n",
      "속도 초과\n",
      "None\n",
      "135\n",
      "None\n",
      "90\n",
      "None\n",
      "45\n",
      "None\n",
      "더이상 줄일 수 없음\n",
      "None\n",
      "더이상 줄일 수 없음\n",
      "None\n",
      "더이상 줄일 수 없음\n",
      "None\n"
     ]
    }
   ],
   "source": [
    "class SportCar(Car):\n",
    "    \n",
    "    def __init__(self):\n",
    "        super(SportCar, self).__init__()\n",
    "        self.max_speed = 200\n",
    "        \n",
    "    def speed_up(self):\n",
    "        if self.speed+45 <self.max_speed:\n",
    "            self.speed += 45\n",
    "            print(self.speed)\n",
    "        else:\n",
    "            print(\"속도 초과\")\n",
    "    \n",
    "    def speed_down(self):\n",
    "        if self.speed - 45 >0:      \n",
    "            self.speed -= 45\n",
    "            print(self.speed)\n",
    "        else:\n",
    "            print(\"더이상 줄일 수 없음\")\n",
    "            \n",
    "#################################        \n",
    "\n",
    "sport = SportCar()\n",
    "print(sport.speed_up())\n",
    "print(sport.speed_up())\n",
    "print(sport.speed_up())\n",
    "print(sport.speed_up())\n",
    "print(sport.speed_up())\n",
    "print(sport.speed_up())\n",
    "\n",
    "print(sport.speed_down())\n",
    "print(sport.speed_down())\n",
    "print(sport.speed_down())\n",
    "print(sport.speed_down())\n",
    "print(sport.speed_down())\n",
    "print(sport.speed_down())"
   ]
  },
  {
   "cell_type": "code",
   "execution_count": 97,
   "metadata": {},
   "outputs": [
    {
     "data": {
      "text/plain": [
       "<__main__.Complex at 0x1b21d5ee080>"
      ]
     },
     "execution_count": 97,
     "metadata": {},
     "output_type": "execute_result"
    }
   ],
   "source": [
    "class Complex(object):\n",
    "\n",
    "    def __init__(self, realpart, imagpart):\n",
    "        self.r = realpart\n",
    "        self.i = imagpart\n",
    "        \n",
    "c = Complex(1, 2)\n",
    "c"
   ]
  },
  {
   "cell_type": "code",
   "execution_count": 98,
   "metadata": {},
   "outputs": [],
   "source": [
    "class Complex2(Complex):\n",
    "\n",
    "    def __repr__(self):\n",
    "        return \"Complex: real = %f imag = %f\" % (self.r, self.i)\n",
    "\n",
    "    def __str__(self):\n",
    "        return \"[for str] \" + self.__repr__()"
   ]
  },
  {
   "cell_type": "code",
   "execution_count": 99,
   "metadata": {},
   "outputs": [
    {
     "data": {
      "text/plain": [
       "Complex: real = 1.000000 imag = 1.000000"
      ]
     },
     "execution_count": 99,
     "metadata": {},
     "output_type": "execute_result"
    }
   ],
   "source": [
    "c2 = Complex2(1, 1)\n",
    "c2"
   ]
  },
  {
   "cell_type": "code",
   "execution_count": 110,
   "metadata": {},
   "outputs": [
    {
     "data": {
      "text/plain": [
       "20"
      ]
     },
     "execution_count": 110,
     "metadata": {},
     "output_type": "execute_result"
    }
   ],
   "source": [
    "class Complex3(Complex2):\n",
    "\n",
    "    def __getitem__(self, key):\n",
    "        if key == \"r\":\n",
    "            return self.r\n",
    "        if key == \"i\":\n",
    "            return self.i\n",
    "        else:\n",
    "            print(\"there is no such key\")\n",
    "\n",
    "c3 = Complex3(10,20)\n",
    "c3[\"i\"]"
   ]
  },
  {
   "cell_type": "markdown",
   "metadata": {},
   "source": [
    "### 연습문제 3.2.36"
   ]
  },
  {
   "cell_type": "code",
   "execution_count": 111,
   "metadata": {},
   "outputs": [],
   "source": [
    "class score(object):\n",
    "    \n",
    "    def __init__(self):\n",
    "        self.num = 2018020512\n",
    "        self.name = \"김진국\"\n",
    "        self.math = 100\n",
    "        self.eng = 990\n",
    "        \n",
    "    def mean_score(self):\n",
    "        mean_sc = (self.math + self.eng)/2\n",
    "    \n",
    "    def __getitem__(self, key):\n",
    "        if key == \"num\":\n",
    "            return self.num\n",
    "        if key == \"math\":\n",
    "            return self.math\n",
    "        if key == \"eng\":\n",
    "            return self.eng\n",
    "        if key == \"name\":\n",
    "            return self.name\n",
    "    def __str__(self):\n",
    "        return self.name\n",
    "        "
   ]
  },
  {
   "cell_type": "code",
   "execution_count": 112,
   "metadata": {},
   "outputs": [
    {
     "data": {
      "text/plain": [
       "100"
      ]
     },
     "execution_count": 112,
     "metadata": {},
     "output_type": "execute_result"
    }
   ],
   "source": [
    "my = score()\n",
    "my[\"math\"]"
   ]
  },
  {
   "cell_type": "code",
   "execution_count": null,
   "metadata": {},
   "outputs": [],
   "source": []
  },
  {
   "cell_type": "code",
   "execution_count": null,
   "metadata": {},
   "outputs": [],
   "source": []
  },
  {
   "cell_type": "code",
   "execution_count": null,
   "metadata": {},
   "outputs": [],
   "source": []
  }
 ],
 "metadata": {
  "kernelspec": {
   "display_name": "Python 3",
   "language": "python",
   "name": "python3"
  },
  "language_info": {
   "codemirror_mode": {
    "name": "ipython",
    "version": 3
   },
   "file_extension": ".py",
   "mimetype": "text/x-python",
   "name": "python",
   "nbconvert_exporter": "python",
   "pygments_lexer": "ipython3",
   "version": "3.6.5"
  }
 },
 "nbformat": 4,
 "nbformat_minor": 2
}
