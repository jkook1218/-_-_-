{
 "cells": [
  {
   "cell_type": "markdown",
   "metadata": {},
   "source": [
    "## 객체 지향"
   ]
  },
  {
   "cell_type": "code",
   "execution_count": 4,
   "metadata": {},
   "outputs": [
    {
     "name": "stdout",
     "output_type": "stream",
     "text": [
      "50\n"
     ]
    }
   ],
   "source": [
    "# 변수와 함수를 묶어서 모아놓은 것을 객체라고 한다.\n",
    "# 객체의 원소가 되는 변수 혹은 함수를 멤버(Member) 혹은 속성(Atrribute) 이라고 부른다.\n",
    "\n",
    "# 예를들어 사각형의 넓이를 구하는 경우 \n",
    "\n",
    "h = 10\n",
    "v = 5\n",
    "\n",
    "def area(h,v):\n",
    "    return h*v\n",
    "my_area = area(h,v)\n",
    "print(my_area)\n",
    "\n",
    "# 위와 같이 처리해야한다.\n",
    "# 이때 h,v,area함수, my_area가 모두 따로 존재한다.\n"
   ]
  },
  {
   "cell_type": "code",
   "execution_count": 6,
   "metadata": {},
   "outputs": [],
   "source": [
    "# 객체 지향 프로그래밍에서는 이들을 모두 한번에 묶어줄 수 있다.\n",
    "\n",
    "class Rectangle(object):\n",
    "    def __init__(self, h, v):\n",
    "        self.h = h\n",
    "        self.v = v #객체의 변수\n",
    "        \n",
    "    def area(self): #객체의 함수\n",
    "        return self.h *self.v #객체의 함수에서 객체의 변수를 가져다 씀\n"
   ]
  },
  {
   "cell_type": "code",
   "execution_count": 9,
   "metadata": {},
   "outputs": [
    {
     "name": "stdout",
     "output_type": "stream",
     "text": [
      "200\n"
     ]
    }
   ],
   "source": [
    "r = Rectangle(10, 20)\n",
    "a = r.area()\n",
    "print(a)\n",
    "\n",
    "# 위 코드에서 r이 바로 객체이다.\n",
    "# 객체 r은 h, v, area() 함수가 합쳐져서 만들어진 것이다.\n",
    "# 객체 r에 포함된 속성인 변수,함수를 꺼내려면 객체 이름뒤에 . 을 붙이면 된다."
   ]
  },
  {
   "cell_type": "code",
   "execution_count": 15,
   "metadata": {},
   "outputs": [
    {
     "name": "stdout",
     "output_type": "stream",
     "text": [
      "1\n",
      "4\n",
      "9\n"
     ]
    }
   ],
   "source": [
    "a = Rectangle(1,1)\n",
    "b = Rectangle(2,2)\n",
    "c = Rectangle(3,3)\n",
    "\n",
    "print(a.area())\n",
    "print(b.area())\n",
    "print(c.area())"
   ]
  },
  {
   "cell_type": "markdown",
   "metadata": {},
   "source": [
    "#### 연습문제 3.2.31"
   ]
  },
  {
   "cell_type": "code",
   "execution_count": 25,
   "metadata": {},
   "outputs": [
    {
     "name": "stdout",
     "output_type": "stream",
     "text": [
      "100.0\n"
     ]
    }
   ],
   "source": [
    "class triangle_area:\n",
    "    \n",
    "    def __init__(self, under, height):\n",
    "        self.a = under\n",
    "        self.h = height\n",
    "        \n",
    "    def tri_area(self):\n",
    "        return self.a* self.h *(1/2)\n",
    "\n",
    "my_area = triangle_area(10,20).tri_area()\n",
    "print(my_area)"
   ]
  },
  {
   "cell_type": "markdown",
   "metadata": {},
   "source": [
    "#### 연습문제 3.3.32"
   ]
  },
  {
   "cell_type": "code",
   "execution_count": 39,
   "metadata": {},
   "outputs": [
    {
     "name": "stdout",
     "output_type": "stream",
     "text": [
      "120 164\n"
     ]
    }
   ],
   "source": [
    "class Rec_Vol:\n",
    "    \n",
    "    def __init__(self, aa, bb, cc):\n",
    "        self.a = aa\n",
    "        self.b = bb\n",
    "        self.h = cc\n",
    "        \n",
    "    def volume(self):\n",
    "        return self.a*self.b*self.h\n",
    "    \n",
    "    def surface_area(self):\n",
    "        return self.a*self.b*2 + (self.a+self.b)*self.h*2\n",
    "    \n",
    "v = Rec_Vol(3,4,10).volume()\n",
    "sa = Rec_Vol(3,4,10).surface_area()\n",
    "\n",
    "print(v,sa)"
   ]
  },
  {
   "cell_type": "code",
   "execution_count": 50,
   "metadata": {},
   "outputs": [
    {
     "name": "stdout",
     "output_type": "stream",
     "text": [
      "1000\n",
      "1000\n",
      "1000\n",
      "공격받음! 생명력 = 990\n",
      "None\n",
      "공격받음! 생명력 = 980\n",
      "None\n",
      "공격받음! 생명력 = 970\n",
      "None\n",
      "공격받음! 생명력 = 960\n",
      "None\n"
     ]
    }
   ],
   "source": [
    "class Character(object):\n",
    "    \n",
    "    def __init__(self):\n",
    "        self.life = 1000\n",
    "    \n",
    "    def attacked(self):\n",
    "        self.life -= 10\n",
    "        print(u\"공격받음! 생명력 =\" , self.life)\n",
    "        \n",
    "a = Character()\n",
    "b = Character()\n",
    "c = Character()\n",
    "\n",
    "print(a.life)\n",
    "print(b.life)\n",
    "print(c.life)\n",
    "\n",
    "print(a.attacked())\n",
    "print(a.attacked())\n",
    "print(a.attacked())\n",
    "print(a.attacked())"
   ]
  },
  {
   "cell_type": "code",
   "execution_count": null,
   "metadata": {},
   "outputs": [],
   "source": []
  }
 ],
 "metadata": {
  "kernelspec": {
   "display_name": "Python 3",
   "language": "python",
   "name": "python3"
  },
  "language_info": {
   "codemirror_mode": {
    "name": "ipython",
    "version": 3
   },
   "file_extension": ".py",
   "mimetype": "text/x-python",
   "name": "python",
   "nbconvert_exporter": "python",
   "pygments_lexer": "ipython3",
   "version": "3.6.5"
  }
 },
 "nbformat": 4,
 "nbformat_minor": 2
}
