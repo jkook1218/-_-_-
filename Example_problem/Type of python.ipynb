{
 "cells": [
  {
   "cell_type": "markdown",
   "metadata": {},
   "source": [
    "### 자료형 및 데이터 크기 확인하기"
   ]
  },
  {
   "cell_type": "code",
   "execution_count": 2,
   "metadata": {},
   "outputs": [],
   "source": [
    "from sys import getsizeof"
   ]
  },
  {
   "cell_type": "code",
   "execution_count": 6,
   "metadata": {},
   "outputs": [
    {
     "name": "stdout",
     "output_type": "stream",
     "text": [
      "28\n",
      "50\n"
     ]
    }
   ],
   "source": [
    "#숫자 1의 메모리 확인\n",
    "a = 1\n",
    "print(getsizeof(a))\n",
    "#문자1의 메모리 확인\n",
    "b = \"1\"\n",
    "print(getsizeof(b))"
   ]
  },
  {
   "cell_type": "markdown",
   "metadata": {},
   "source": [
    "#내가 특히 안 익숙한 자료형\n",
    "Complex,\n",
    "Unicode\n"
   ]
  },
  {
   "cell_type": "code",
   "execution_count": 19,
   "metadata": {},
   "outputs": [
    {
     "name": "stdout",
     "output_type": "stream",
     "text": [
      "<class 'NoneType'>\n",
      "<class 'bool'>\n",
      "<class 'int'>\n",
      "<class 'float'>\n",
      "<class 'complex'>\n",
      "<class 'str'>\n",
      "<class 'tuple'>\n",
      "<class 'list'>\n",
      "<class 'dict'>\n",
      "<class 'function'>\n",
      "<class 'int'>\n",
      "<class 'int'>\n"
     ]
    }
   ],
   "source": [
    "print(type(None))\n",
    "print(type(True))\n",
    "print(type(1))\n",
    "print(type(3.14))\n",
    "print(type(1+2j))\n",
    "print(type('abc'))\n",
    "print(type((1,2,3)))\n",
    "print(type([1,2,3]))\n",
    "print(type({\"a\":1,\"b\":2}))\n",
    "\n",
    "#함수도 자료형이다!!! 대박ㅋㅋ\n",
    "def f():\n",
    "    return 1\n",
    "print(type(f))\n",
    "\n",
    "#파이썬에서 자료형 = 클래스 \n",
    "\n",
    "a = 1\n",
    "print(type(a))\n",
    "print(a.__class__)"
   ]
  },
  {
   "cell_type": "code",
   "execution_count": 21,
   "metadata": {},
   "outputs": [
    {
     "data": {
      "text/plain": [
       "__main__.C"
      ]
     },
     "execution_count": 21,
     "metadata": {},
     "output_type": "execute_result"
    }
   ],
   "source": [
    "class C(object):\n",
    "    pass\n",
    "\n",
    "c = C()\n",
    "type(c)\n",
    "#클래스의 자료형 앞에 __main__은 클래스가 저장되는 파일명을 이야기 한다."
   ]
  },
  {
   "cell_type": "code",
   "execution_count": null,
   "metadata": {},
   "outputs": [],
   "source": []
  }
 ],
 "metadata": {
  "kernelspec": {
   "display_name": "Python 3",
   "language": "python",
   "name": "python3"
  },
  "language_info": {
   "codemirror_mode": {
    "name": "ipython",
    "version": 3
   },
   "file_extension": ".py",
   "mimetype": "text/x-python",
   "name": "python",
   "nbconvert_exporter": "python",
   "pygments_lexer": "ipython3",
   "version": "3.6.5"
  }
 },
 "nbformat": 4,
 "nbformat_minor": 2
}
