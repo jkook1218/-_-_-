{
 "cells": [
  {
   "cell_type": "markdown",
   "metadata": {},
   "source": [
    "### 연습 문제 3.2.29¶"
   ]
  },
  {
   "cell_type": "code",
   "execution_count": 6,
   "metadata": {},
   "outputs": [
    {
     "name": "stdout",
     "output_type": "stream",
     "text": [
      "가중 점수 평균은 3.364  입니다\n"
     ]
    }
   ],
   "source": [
    "x = [4,3,2,3,4]\n",
    "w = [3,3,1,2,2]\n",
    "score = 0\n",
    "summ = 0\n",
    "\n",
    "for j, k in zip(x,w):\n",
    "    score += j*k\n",
    "    summ += k\n",
    "print('가중 점수 평균은 %s  입니다' %round((score/summ),3))\n",
    "    "
   ]
  },
  {
   "cell_type": "markdown",
   "metadata": {},
   "source": [
    "### 연습 문제 3.2.30¶"
   ]
  },
  {
   "cell_type": "code",
   "execution_count": 15,
   "metadata": {},
   "outputs": [
    {
     "name": "stdout",
     "output_type": "stream",
     "text": [
      "1.667\n"
     ]
    }
   ],
   "source": [
    "x =[6,5,4,7,3,5]\n",
    "summ = 0\n",
    "mean = 0\n",
    "for i in x:\n",
    "    summ += i\n",
    "mean = summ / len(x)\n",
    "\n",
    "sqr = 0\n",
    "for i in x:\n",
    "    sqr += (i-mean)**2\n",
    "\n",
    "var = sqr/ len(x)\n",
    "\n",
    "print(round(var,3))"
   ]
  }
 ],
 "metadata": {
  "kernelspec": {
   "display_name": "Python 3",
   "language": "python",
   "name": "python3"
  },
  "language_info": {
   "codemirror_mode": {
    "name": "ipython",
    "version": 3
   },
   "file_extension": ".py",
   "mimetype": "text/x-python",
   "name": "python",
   "nbconvert_exporter": "python",
   "pygments_lexer": "ipython3",
   "version": "3.6.5"
  }
 },
 "nbformat": 4,
 "nbformat_minor": 2
}
