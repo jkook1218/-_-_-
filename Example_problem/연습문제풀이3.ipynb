{
 "cells": [
  {
   "cell_type": "markdown",
   "metadata": {},
   "source": [
    "## 연습 문제 3.2.25"
   ]
  },
  {
   "cell_type": "code",
   "execution_count": 26,
   "metadata": {},
   "outputs": [
    {
     "name": "stdout",
     "output_type": "stream",
     "text": [
      "220\n"
     ]
    }
   ],
   "source": [
    "sum1 = 0\n",
    "sum2 = 0\n",
    "n = 10\n",
    "for i in range(n):\n",
    "    sum1 = sum1 + (i+1)\n",
    "    sum2 = sum2 + sum1\n",
    "    \n",
    "print(sum2)"
   ]
  },
  {
   "cell_type": "code",
   "execution_count": 28,
   "metadata": {},
   "outputs": [],
   "source": [
    "## 연습 문제 3.2.26"
   ]
  },
  {
   "cell_type": "code",
   "execution_count": 31,
   "metadata": {},
   "outputs": [
    {
     "name": "stdout",
     "output_type": "stream",
     "text": [
      "90.6\n"
     ]
    }
   ],
   "source": [
    "score = [100,80,90,85,98]\n",
    "\n",
    "mean = (score[0] +score[1] +score[2]+score[3]+score[4])/5\n",
    "\n",
    "print(mean)"
   ]
  },
  {
   "cell_type": "markdown",
   "metadata": {},
   "source": [
    "## 연습 문제 3.2.27\n",
    "1.윤년이 아닌 평년의 경우에 각 달의 날짜 수를 저장하는 변수 days를 만든다. 이 때 각 달을 표시하는 키는 두 글자짜리 문자열로 한다. 즉, 1월은 \"01\", 2월은 \"02\", 12월은 \"12\"로 한다.\n",
    "\n",
    "2.변수 days를 이용하여 짝수 달의 평균 날짜 수를 구한다."
   ]
  },
  {
   "cell_type": "code",
   "execution_count": 42,
   "metadata": {},
   "outputs": [
    {
     "name": "stdout",
     "output_type": "stream",
     "text": [
      "03월은 31일 까지 있습니다\n"
     ]
    }
   ],
   "source": [
    "#1\n",
    "days = {\"01\": 31, \"02\": 30, \"03\":31, \"04\": 30, \"05\": 31,\n",
    "       \"06\":30, \"07\":31, \"08\":31, \"09\":30, \"10\":31, \"11\":30, \"12\":31}\n",
    "\n",
    "print(\"03월은 \" +str(days['03'])+\"일 까지 있습니다\")"
   ]
  },
  {
   "cell_type": "code",
   "execution_count": 51,
   "metadata": {
    "scrolled": true
   },
   "outputs": [
    {
     "name": "stdout",
     "output_type": "stream",
     "text": [
      "짝수 달의 평균 날짜 수는 30.5입니다\n"
     ]
    }
   ],
   "source": [
    "#2\n",
    "print(\"짝수 달의 평균 날짜 수는 \"+str((days[\"02\"]+days[\"04\"]+days[\"06\"]+days[\"08\"]+days[\"10\"]+days[\"12\"])/6)+\"입니다\")"
   ]
  },
  {
   "cell_type": "markdown",
   "metadata": {},
   "source": [
    "## 연습 문제 3.2.28¶\n",
    "리스트에는 숫자 뿐 아니라 문자 등 어떤 값도 넣을 수 있다. 7으로 이루어진 반의 학생 이름을 생각하여 리스트 변수로 만들어 본다.\n",
    "전학생이 왔다고 가정하여 리스트에 이름을 추가한다.\n",
    "한 명이 전학을 갔다고 가정하고 리스트에서 이름을 삭제한다.\n",
    "슬라이싱으로 2 학생(1번 학생은 가장 처음에 있는 학생이다.)부터 4 학생까지 3의 이름을 담은 새로운 리스트를 만든다."
   ]
  },
  {
   "cell_type": "code",
   "execution_count": 88,
   "metadata": {},
   "outputs": [
    {
     "name": "stdout",
     "output_type": "stream",
     "text": [
      "['김진국', '이수빈', '안지영', '이민형', '송재승', '최지은', '김현영']\n",
      "['이민형', '송재승', '최지은']\n"
     ]
    }
   ],
   "source": [
    "학생명단 = ['김진국','이선화','이수빈','안지영','이민형','송재승','최지은']\n",
    "전학생 = '김현영'\n",
    "학생명단.append(전학생)\n",
    "del 학생명단[1]\n",
    "print(학생명단)\n",
    "\n",
    "새로운학생명단 = 학생명단[3:6]\n",
    "print(새로운학생명단)"
   ]
  },
  {
   "cell_type": "code",
   "execution_count": null,
   "metadata": {},
   "outputs": [],
   "source": [
    ":"
   ]
  }
 ],
 "metadata": {
  "kernelspec": {
   "display_name": "Python 3",
   "language": "python",
   "name": "python3"
  },
  "language_info": {
   "codemirror_mode": {
    "name": "ipython",
    "version": 3
   },
   "file_extension": ".py",
   "mimetype": "text/x-python",
   "name": "python",
   "nbconvert_exporter": "python",
   "pygments_lexer": "ipython3",
   "version": "3.6.5"
  }
 },
 "nbformat": 4,
 "nbformat_minor": 2
}
