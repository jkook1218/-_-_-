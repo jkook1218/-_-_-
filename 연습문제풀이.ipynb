{
 "cells": [
  {
   "cell_type": "markdown",
   "metadata": {},
   "source": [
    "# 연습문제 3.2.6"
   ]
  },
  {
   "cell_type": "code",
   "execution_count": 52,
   "metadata": {},
   "outputs": [
    {
     "name": "stdout",
     "output_type": "stream",
     "text": [
      "Beautiful is better than ugly.\n",
      "Explicit is better than implicit.\n",
      "Simple is better than complex.\n",
      "Complex is better than complicated.\n",
      "Flat is better than nested.\n",
      "Sparse is better than dense.\n"
     ]
    }
   ],
   "source": [
    "#1. 문장 출력하기\n",
    "my = '''Beautiful is better than ugly.\n",
    "Explicit is better than implicit.\n",
    "Simple is better than complex.\n",
    "Complex is better than complicated.\n",
    "Flat is better than nested.\n",
    "Sparse is better than dense.'''\n",
    "\n",
    "print(my)"
   ]
  },
  {
   "cell_type": "code",
   "execution_count": 53,
   "metadata": {},
   "outputs": [
    {
     "name": "stdout",
     "output_type": "stream",
     "text": [
      "@@@@@@\n",
      "@    @\n",
      "@    @\n",
      "@    @\n",
      "@@@@@@\n"
     ]
    }
   ],
   "source": [
    "#2. 문자열,정수형, 문자열 덧셈 곱셈을 이용해서 문자열 출력\n",
    "a = '@'\n",
    "b = 6\n",
    "\n",
    "print(a*b+'\\n'+a+'    '+a+'\\n'+a+'    '+a+'\\n'+a+'    '+a+'\\n'+a*b)"
   ]
  },
  {
   "cell_type": "markdown",
   "metadata": {},
   "source": [
    "# 연습문제 3.2.7\n"
   ]
  },
  {
   "cell_type": "code",
   "execution_count": 54,
   "metadata": {},
   "outputs": [
    {
     "name": "stdout",
     "output_type": "stream",
     "text": [
      " Jinkook is 26 years old\n"
     ]
    }
   ],
   "source": [
    "name  = 'Jinkook'\n",
    "age = 26\n",
    "\n",
    "print(\" %s is %s years old\" % (name, age))"
   ]
  },
  {
   "cell_type": "code",
   "execution_count": 55,
   "metadata": {},
   "outputs": [
    {
     "name": "stdout",
     "output_type": "stream",
     "text": [
      "10 / 3 = 3.333\n"
     ]
    }
   ],
   "source": [
    "a = 10\n",
    "b = 3\n",
    "print(\"%s / %s = %s\" %( a, b, round(a/b,3)))"
   ]
  },
  {
   "cell_type": "markdown",
   "metadata": {},
   "source": [
    "# 연습문제 3.2.8\n"
   ]
  },
  {
   "cell_type": "code",
   "execution_count": 56,
   "metadata": {},
   "outputs": [
    {
     "name": "stdout",
     "output_type": "stream",
     "text": [
      "         3\n",
      "x       12\n",
      "----------\n",
      "        36\n"
     ]
    }
   ],
   "source": [
    "a = 3\n",
    "b = 12\n",
    "\n",
    "print(\"{:>10}\".format(a) + '\\n' + \"x\"+ \"{:>9}\".format(b)+\"\\n\"+\"-\"*10 +\"\\n\"+ \"{:>10}\".format(a*b))"
   ]
  },
  {
   "cell_type": "markdown",
   "metadata": {},
   "source": [
    "# 연습문제 3.2.9\n"
   ]
  },
  {
   "cell_type": "code",
   "execution_count": 58,
   "metadata": {},
   "outputs": [
    {
     "name": "stdout",
     "output_type": "stream",
     "text": [
      "짝수\n"
     ]
    }
   ],
   "source": [
    "a = 2\n",
    "\n",
    "if a % 2 == 0:\n",
    "    print(\"짝수\")\n",
    "\n",
    "else:\n",
    "    print(\"짝수가 아님\")"
   ]
  },
  {
   "cell_type": "code",
   "execution_count": 60,
   "metadata": {},
   "outputs": [
    {
     "name": "stdout",
     "output_type": "stream",
     "text": [
      "2자리수의 짝수가 아니다\n"
     ]
    }
   ],
   "source": [
    "b = 119\n",
    "\n",
    "if (b% 2 == 0) & (b>=10) & (b<100) : \n",
    "    print(\"2자리수의 짝수이다\")\n",
    "else:\n",
    "    print(\"2자리수의 짝수가 아니다\")"
   ]
  },
  {
   "cell_type": "markdown",
   "metadata": {},
   "source": [
    "# 연습문제 3.2.10\n"
   ]
  },
  {
   "cell_type": "markdown",
   "metadata": {},
   "source": [
    "변수 y의 값이 윤년이면 \"윤년입니다\"를 출력하고 아니라면 \"윤년이 아닙니다\"라고 출력하는 프로그램을 만든다. 윤년은 2월 29일이 있는 해로 다음과 같이 정해진다.\n",
    "\n",
    "서력 기원 연수가 4로 나누어 떨어지는 해는 윤년으로 한다(2004년, 2008년, 2012년, 2016년, 2020년, 2024년, …).\n",
    "이 중에서 100으로 나누어 떨어지는 해는 평년으로 한다(1900년, 2100년, 2200년, 2300년, 2500년, …).\n",
    "이 중에서 400으로 나누어 떨어지는 해는 윤년으로 둔다(1600년, 2000년, 2400년, …)."
   ]
  },
  {
   "cell_type": "code",
   "execution_count": 67,
   "metadata": {},
   "outputs": [
    {
     "name": "stdout",
     "output_type": "stream",
     "text": [
      "윤년이 아닙니다\n"
     ]
    }
   ],
   "source": [
    "연도 = 1900\n",
    "\n",
    "if (연도 % 4 ==0 ) & ((연도 % 100 != 0) | (연도 %400 == 0)) :\n",
    "    print(\"윤년입니다\")\n",
    "else:\n",
    "    print(\"윤년이 아닙니다\")"
   ]
  },
  {
   "cell_type": "markdown",
   "metadata": {},
   "source": [
    "# 연습문제 3.2.11&12"
   ]
  },
  {
   "cell_type": "code",
   "execution_count": 73,
   "metadata": {},
   "outputs": [
    {
     "name": "stdout",
     "output_type": "stream",
     "text": [
      "B\n"
     ]
    }
   ],
   "source": [
    "c = 6\n",
    "\n",
    "if c >= 8:\n",
    "    print(\"A\")\n",
    "elif c>= 5:\n",
    "    print(\"B\")\n",
    "else:\n",
    "    print(\"C\")"
   ]
  },
  {
   "cell_type": "code",
   "execution_count": 75,
   "metadata": {},
   "outputs": [
    {
     "name": "stdout",
     "output_type": "stream",
     "text": [
      "2등급\n"
     ]
    }
   ],
   "source": [
    "수박무게 = 8\n",
    "\n",
    "if 수박무게 >10:\n",
    "    print(\"1등급\")\n",
    "elif 수박무게 >7:\n",
    "    print(\"2등급\")\n",
    "elif 수박무게>4:\n",
    "    print(\"3등급\")\n",
    "else:\n",
    "    print(\"4등급\")"
   ]
  },
  {
   "cell_type": "markdown",
   "metadata": {},
   "source": [
    "# 연습문제 3.2.13\n",
    "연습 문제 3.2.13¶\n",
    "'죄수의 딜레마'는 게임 이론의 유명한 사례이다(자세한 내용은 위키피디아를 참조한다: https://ko.wikipedia.org/wiki/죄수의_딜레마). 두 명의 범죄자 A, B가 체포되어 서로 다른 취조실에서 격리되어 심문을 받고 있다. 이들에게 자백 여부에 따라 다음의 선택이 가능하다.\n",
    "\n",
    "둘 중 하나가 배신하여 죄를 자백하면 자백한 사람은 즉시 풀어주고 나머지 한 명이 10년을 복역해야 한다.\n",
    "둘 모두 서로를 배신하여 죄를 자백하면 둘 다 5년을 복역한다.\n",
    "둘 모두 죄를 자백하지 않으면 둘 다 1년을 복역한다.\n",
    "죄수를 나타내는 변수 XA, XB는 자백하면 True, 그렇지 않으면 False를 가지는 값이다. 이때 변수 XA, XB 값에 따라 각각이 복역해야 하는 연 수를 변수 YA, YB라고 할 때 YA, YB를 계산하는 프로그램을 만든다."
   ]
  },
  {
   "cell_type": "code",
   "execution_count": 80,
   "metadata": {},
   "outputs": [
    {
     "name": "stdout",
     "output_type": "stream",
     "text": [
      "죄수1복역은 0 년 입니다\n",
      "죄수2복역은 10 년 입니다\n"
     ]
    }
   ],
   "source": [
    "죄수1 = True\n",
    "죄수2 = False\n",
    "\n",
    "if (죄수1 == True) & (죄수2 == False):\n",
    "    죄수1복역 = 0\n",
    "    죄수2복역 = 10\n",
    "elif (죄수1 == False) & (죄수2 == True):\n",
    "    죄수1복역 = 10\n",
    "    죄수2복역 = 0\n",
    "elif (죄수1 == False) & (죄수2 == False):\n",
    "    죄수1복역 = 1\n",
    "    죄수2복역 = 1\n",
    "else : \n",
    "    죄수1복역 = 5\n",
    "    죄수2복역 = 5\n",
    "    \n",
    "print( '죄수1복역은', 죄수1복역,\"년 입니다\" +\"\\n\" + '죄수2복역은', 죄수2복역, \"년 입니다\")"
   ]
  },
  {
   "cell_type": "markdown",
   "metadata": {},
   "source": [
    "# 연습문제 3.2.14"
   ]
  },
  {
   "cell_type": "code",
   "execution_count": 84,
   "metadata": {},
   "outputs": [
    {
     "name": "stdout",
     "output_type": "stream",
     "text": [
      "짝수\n"
     ]
    }
   ],
   "source": [
    "내숫자 = 12\n",
    "def isitodd(숫자):\n",
    "    if 숫자%2 ==0:\n",
    "        print(\"짝수\")\n",
    "    elif 숫자%2 ==1:\n",
    "        print(\"홀수\")\n",
    "        \n",
    "isitodd(내숫자)"
   ]
  },
  {
   "cell_type": "code",
   "execution_count": 108,
   "metadata": {},
   "outputs": [
    {
     "data": {
      "text/plain": [
       "11"
      ]
     },
     "execution_count": 108,
     "metadata": {},
     "output_type": "execute_result"
    }
   ],
   "source": [
    "11|8"
   ]
  },
  {
   "cell_type": "code",
   "execution_count": 82,
   "metadata": {},
   "outputs": [
    {
     "data": {
      "text/plain": [
       "1"
      ]
     },
     "execution_count": 82,
     "metadata": {},
     "output_type": "execute_result"
    }
   ],
   "source": [
    "3%2"
   ]
  },
  {
   "cell_type": "code",
   "execution_count": 71,
   "metadata": {},
   "outputs": [],
   "source": [
    "# 연습문제 3.2.10"
   ]
  },
  {
   "cell_type": "code",
   "execution_count": 72,
   "metadata": {},
   "outputs": [],
   "source": [
    "# 연습문제 3.2.10"
   ]
  },
  {
   "cell_type": "code",
   "execution_count": null,
   "metadata": {},
   "outputs": [],
   "source": [
    "# 연습문제 3.2.10"
   ]
  }
 ],
 "metadata": {
  "kernelspec": {
   "display_name": "Python 3",
   "language": "python",
   "name": "python3"
  },
  "language_info": {
   "codemirror_mode": {
    "name": "ipython",
    "version": 3
   },
   "file_extension": ".py",
   "mimetype": "text/x-python",
   "name": "python",
   "nbconvert_exporter": "python",
   "pygments_lexer": "ipython3",
   "version": "3.6.5"
  }
 },
 "nbformat": 4,
 "nbformat_minor": 2
}
